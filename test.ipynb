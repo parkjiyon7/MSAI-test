{
 "cells": [
  {
   "cell_type": "code",
   "execution_count": 3,
   "metadata": {},
   "outputs": [
    {
     "name": "stdout",
     "output_type": "stream",
     "text": [
      "Wanna go home\n",
      "보람이 있었습니다\n",
      "에러 안뜨기가 쉽지 않네요\n"
     ]
    }
   ],
   "source": [
    "print('Wanna go home')\n",
    "print('보람이 있었습니다')\n",
    "print('에러 안뜨기가 쉽지 않네요')"
   ]
  }
 ],
 "metadata": {
  "kernelspec": {
   "display_name": "Python 3",
   "language": "python",
   "name": "python3"
  },
  "language_info": {
   "codemirror_mode": {
    "name": "ipython",
    "version": 3
   },
   "file_extension": ".py",
   "mimetype": "text/x-python",
   "name": "python",
   "nbconvert_exporter": "python",
   "pygments_lexer": "ipython3",
   "version": "3.13.1"
  }
 },
 "nbformat": 4,
 "nbformat_minor": 2
}
